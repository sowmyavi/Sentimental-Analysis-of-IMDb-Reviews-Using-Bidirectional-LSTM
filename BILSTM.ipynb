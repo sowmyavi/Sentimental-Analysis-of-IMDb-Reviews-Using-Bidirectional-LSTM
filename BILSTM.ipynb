{
  "cells": [
    {
      "cell_type": "markdown",
      "metadata": {
        "id": "PbroNpTUs-I2"
      },
      "source": [
        "# Importing Libraries and Data"
      ]
    },
    {
      "cell_type": "code",
      "execution_count": null,
      "metadata": {
        "id": "5eIlpU-S4n7w"
      },
      "outputs": [],
      "source": [
        "import torch\n",
        "%matplotlib inline\n",
        "from matplotlib import pyplot as plt\n",
        "import seaborn as sns\n",
        "import random\n",
        "import numpy as np\n",
        "# torch.manual_seed(0)\n",
        "# random.seed(0)\n",
        "# np.random.seed(0)\n",
        "import os\n",
        "import re\n",
        "import warnings\n",
        "torch.use_deterministic_algorithms(False)\n",
        "import pandas as pd\n",
        "from gensim.models import KeyedVectors\n",
        "import torch.nn as nn\n",
        "import torch.nn.functional as F\n",
        "import torch.optim as optim\n",
        "from sklearn.model_selection import StratifiedKFold\n",
        "from sklearn.metrics import roc_auc_score, roc_curve, auc, confusion_matrix, classification_report\n",
        "from sklearn.model_selection import train_test_split\n",
        "\n",
        "warnings.filterwarnings(\"ignore\")\n"
      ]
    },
    {
      "cell_type": "code",
      "execution_count": null,
      "metadata": {
        "colab": {
          "base_uri": "https://localhost:8080/"
        },
        "id": "8Nw-2jsGu0Dl",
        "outputId": "71e3edb7-229b-4a5f-b9c7-e74539042c16"
      },
      "outputs": [
        {
          "output_type": "stream",
          "name": "stdout",
          "text": [
            "Drive already mounted at /content/drive; to attempt to forcibly remount, call drive.mount(\"/content/drive\", force_remount=True).\n"
          ]
        }
      ],
      "source": [
        "from google.colab import drive\n",
        "drive.mount('/content/drive')"
      ]
    },
    {
      "cell_type": "code",
      "execution_count": null,
      "metadata": {
        "id": "EqVwtFcftLXC"
      },
      "outputs": [],
      "source": [
        "filename = \"/content/drive/MyDrive/Fellowship.AI/IMDB Dataset.csv\""
      ]
    },
    {
      "cell_type": "code",
      "execution_count": null,
      "metadata": {
        "colab": {
          "base_uri": "https://localhost:8080/",
          "height": 206
        },
        "id": "QJV8LhtatxlT",
        "outputId": "94394787-c2c7-49a3-b0ff-071ebe6dcd3e"
      },
      "outputs": [
        {
          "output_type": "execute_result",
          "data": {
            "text/plain": [
              "                                              review sentiment\n",
              "0  One of the other reviewers has mentioned that ...  positive\n",
              "1  A wonderful little production. <br /><br />The...  positive\n",
              "2  I thought this was a wonderful way to spend ti...  positive\n",
              "3  Basically there's a family where a little boy ...  negative\n",
              "4  Petter Mattei's \"Love in the Time of Money\" is...  positive"
            ],
            "text/html": [
              "\n",
              "  <div id=\"df-6cb3d7ed-90b4-4487-8f4f-1404f0569270\">\n",
              "    <div class=\"colab-df-container\">\n",
              "      <div>\n",
              "<style scoped>\n",
              "    .dataframe tbody tr th:only-of-type {\n",
              "        vertical-align: middle;\n",
              "    }\n",
              "\n",
              "    .dataframe tbody tr th {\n",
              "        vertical-align: top;\n",
              "    }\n",
              "\n",
              "    .dataframe thead th {\n",
              "        text-align: right;\n",
              "    }\n",
              "</style>\n",
              "<table border=\"1\" class=\"dataframe\">\n",
              "  <thead>\n",
              "    <tr style=\"text-align: right;\">\n",
              "      <th></th>\n",
              "      <th>review</th>\n",
              "      <th>sentiment</th>\n",
              "    </tr>\n",
              "  </thead>\n",
              "  <tbody>\n",
              "    <tr>\n",
              "      <th>0</th>\n",
              "      <td>One of the other reviewers has mentioned that ...</td>\n",
              "      <td>positive</td>\n",
              "    </tr>\n",
              "    <tr>\n",
              "      <th>1</th>\n",
              "      <td>A wonderful little production. &lt;br /&gt;&lt;br /&gt;The...</td>\n",
              "      <td>positive</td>\n",
              "    </tr>\n",
              "    <tr>\n",
              "      <th>2</th>\n",
              "      <td>I thought this was a wonderful way to spend ti...</td>\n",
              "      <td>positive</td>\n",
              "    </tr>\n",
              "    <tr>\n",
              "      <th>3</th>\n",
              "      <td>Basically there's a family where a little boy ...</td>\n",
              "      <td>negative</td>\n",
              "    </tr>\n",
              "    <tr>\n",
              "      <th>4</th>\n",
              "      <td>Petter Mattei's \"Love in the Time of Money\" is...</td>\n",
              "      <td>positive</td>\n",
              "    </tr>\n",
              "  </tbody>\n",
              "</table>\n",
              "</div>\n",
              "      <button class=\"colab-df-convert\" onclick=\"convertToInteractive('df-6cb3d7ed-90b4-4487-8f4f-1404f0569270')\"\n",
              "              title=\"Convert this dataframe to an interactive table.\"\n",
              "              style=\"display:none;\">\n",
              "        \n",
              "  <svg xmlns=\"http://www.w3.org/2000/svg\" height=\"24px\"viewBox=\"0 0 24 24\"\n",
              "       width=\"24px\">\n",
              "    <path d=\"M0 0h24v24H0V0z\" fill=\"none\"/>\n",
              "    <path d=\"M18.56 5.44l.94 2.06.94-2.06 2.06-.94-2.06-.94-.94-2.06-.94 2.06-2.06.94zm-11 1L8.5 8.5l.94-2.06 2.06-.94-2.06-.94L8.5 2.5l-.94 2.06-2.06.94zm10 10l.94 2.06.94-2.06 2.06-.94-2.06-.94-.94-2.06-.94 2.06-2.06.94z\"/><path d=\"M17.41 7.96l-1.37-1.37c-.4-.4-.92-.59-1.43-.59-.52 0-1.04.2-1.43.59L10.3 9.45l-7.72 7.72c-.78.78-.78 2.05 0 2.83L4 21.41c.39.39.9.59 1.41.59.51 0 1.02-.2 1.41-.59l7.78-7.78 2.81-2.81c.8-.78.8-2.07 0-2.86zM5.41 20L4 18.59l7.72-7.72 1.47 1.35L5.41 20z\"/>\n",
              "  </svg>\n",
              "      </button>\n",
              "      \n",
              "  <style>\n",
              "    .colab-df-container {\n",
              "      display:flex;\n",
              "      flex-wrap:wrap;\n",
              "      gap: 12px;\n",
              "    }\n",
              "\n",
              "    .colab-df-convert {\n",
              "      background-color: #E8F0FE;\n",
              "      border: none;\n",
              "      border-radius: 50%;\n",
              "      cursor: pointer;\n",
              "      display: none;\n",
              "      fill: #1967D2;\n",
              "      height: 32px;\n",
              "      padding: 0 0 0 0;\n",
              "      width: 32px;\n",
              "    }\n",
              "\n",
              "    .colab-df-convert:hover {\n",
              "      background-color: #E2EBFA;\n",
              "      box-shadow: 0px 1px 2px rgba(60, 64, 67, 0.3), 0px 1px 3px 1px rgba(60, 64, 67, 0.15);\n",
              "      fill: #174EA6;\n",
              "    }\n",
              "\n",
              "    [theme=dark] .colab-df-convert {\n",
              "      background-color: #3B4455;\n",
              "      fill: #D2E3FC;\n",
              "    }\n",
              "\n",
              "    [theme=dark] .colab-df-convert:hover {\n",
              "      background-color: #434B5C;\n",
              "      box-shadow: 0px 1px 3px 1px rgba(0, 0, 0, 0.15);\n",
              "      filter: drop-shadow(0px 1px 2px rgba(0, 0, 0, 0.3));\n",
              "      fill: #FFFFFF;\n",
              "    }\n",
              "  </style>\n",
              "\n",
              "      <script>\n",
              "        const buttonEl =\n",
              "          document.querySelector('#df-6cb3d7ed-90b4-4487-8f4f-1404f0569270 button.colab-df-convert');\n",
              "        buttonEl.style.display =\n",
              "          google.colab.kernel.accessAllowed ? 'block' : 'none';\n",
              "\n",
              "        async function convertToInteractive(key) {\n",
              "          const element = document.querySelector('#df-6cb3d7ed-90b4-4487-8f4f-1404f0569270');\n",
              "          const dataTable =\n",
              "            await google.colab.kernel.invokeFunction('convertToInteractive',\n",
              "                                                     [key], {});\n",
              "          if (!dataTable) return;\n",
              "\n",
              "          const docLinkHtml = 'Like what you see? Visit the ' +\n",
              "            '<a target=\"_blank\" href=https://colab.research.google.com/notebooks/data_table.ipynb>data table notebook</a>'\n",
              "            + ' to learn more about interactive tables.';\n",
              "          element.innerHTML = '';\n",
              "          dataTable['output_type'] = 'display_data';\n",
              "          await google.colab.output.renderOutput(dataTable, element);\n",
              "          const docLink = document.createElement('div');\n",
              "          docLink.innerHTML = docLinkHtml;\n",
              "          element.appendChild(docLink);\n",
              "        }\n",
              "      </script>\n",
              "    </div>\n",
              "  </div>\n",
              "  "
            ]
          },
          "metadata": {},
          "execution_count": 4
        }
      ],
      "source": [
        "df = pd.read_csv(filename)\n",
        "df.head()"
      ]
    },
    {
      "cell_type": "markdown",
      "metadata": {
        "id": "tHwkKAgTwNSU"
      },
      "source": [
        "# New section"
      ]
    },
    {
      "cell_type": "code",
      "execution_count": null,
      "metadata": {
        "colab": {
          "base_uri": "https://localhost:8080/",
          "height": 363
        },
        "id": "NWVW53o09VzG",
        "outputId": "598178cf-da99-49e2-f417-4b1b1504c5dd"
      },
      "outputs": [
        {
          "output_type": "execute_result",
          "data": {
            "text/plain": [
              "                                              review sentiment  \\\n",
              "0  One of the other reviewers has mentioned that ...  positive   \n",
              "1  A wonderful little production. <br /><br />The...  positive   \n",
              "2  I thought this was a wonderful way to spend ti...  positive   \n",
              "3  Basically there's a family where a little boy ...  negative   \n",
              "4  Petter Mattei's \"Love in the Time of Money\" is...  positive   \n",
              "5  Probably my all-time favorite movie, a story o...  positive   \n",
              "6  I sure would like to see a resurrection of a u...  positive   \n",
              "7  This show was an amazing, fresh & innovative i...  negative   \n",
              "8  Encouraged by the positive comments about this...  negative   \n",
              "9  If you like original gut wrenching laughter yo...  positive   \n",
              "\n",
              "   binary_sentiment  \n",
              "0                 1  \n",
              "1                 1  \n",
              "2                 1  \n",
              "3                 0  \n",
              "4                 1  \n",
              "5                 1  \n",
              "6                 1  \n",
              "7                 0  \n",
              "8                 0  \n",
              "9                 1  "
            ],
            "text/html": [
              "\n",
              "  <div id=\"df-76005978-aedc-42ea-8efc-bc468a38647b\">\n",
              "    <div class=\"colab-df-container\">\n",
              "      <div>\n",
              "<style scoped>\n",
              "    .dataframe tbody tr th:only-of-type {\n",
              "        vertical-align: middle;\n",
              "    }\n",
              "\n",
              "    .dataframe tbody tr th {\n",
              "        vertical-align: top;\n",
              "    }\n",
              "\n",
              "    .dataframe thead th {\n",
              "        text-align: right;\n",
              "    }\n",
              "</style>\n",
              "<table border=\"1\" class=\"dataframe\">\n",
              "  <thead>\n",
              "    <tr style=\"text-align: right;\">\n",
              "      <th></th>\n",
              "      <th>review</th>\n",
              "      <th>sentiment</th>\n",
              "      <th>binary_sentiment</th>\n",
              "    </tr>\n",
              "  </thead>\n",
              "  <tbody>\n",
              "    <tr>\n",
              "      <th>0</th>\n",
              "      <td>One of the other reviewers has mentioned that ...</td>\n",
              "      <td>positive</td>\n",
              "      <td>1</td>\n",
              "    </tr>\n",
              "    <tr>\n",
              "      <th>1</th>\n",
              "      <td>A wonderful little production. &lt;br /&gt;&lt;br /&gt;The...</td>\n",
              "      <td>positive</td>\n",
              "      <td>1</td>\n",
              "    </tr>\n",
              "    <tr>\n",
              "      <th>2</th>\n",
              "      <td>I thought this was a wonderful way to spend ti...</td>\n",
              "      <td>positive</td>\n",
              "      <td>1</td>\n",
              "    </tr>\n",
              "    <tr>\n",
              "      <th>3</th>\n",
              "      <td>Basically there's a family where a little boy ...</td>\n",
              "      <td>negative</td>\n",
              "      <td>0</td>\n",
              "    </tr>\n",
              "    <tr>\n",
              "      <th>4</th>\n",
              "      <td>Petter Mattei's \"Love in the Time of Money\" is...</td>\n",
              "      <td>positive</td>\n",
              "      <td>1</td>\n",
              "    </tr>\n",
              "    <tr>\n",
              "      <th>5</th>\n",
              "      <td>Probably my all-time favorite movie, a story o...</td>\n",
              "      <td>positive</td>\n",
              "      <td>1</td>\n",
              "    </tr>\n",
              "    <tr>\n",
              "      <th>6</th>\n",
              "      <td>I sure would like to see a resurrection of a u...</td>\n",
              "      <td>positive</td>\n",
              "      <td>1</td>\n",
              "    </tr>\n",
              "    <tr>\n",
              "      <th>7</th>\n",
              "      <td>This show was an amazing, fresh &amp; innovative i...</td>\n",
              "      <td>negative</td>\n",
              "      <td>0</td>\n",
              "    </tr>\n",
              "    <tr>\n",
              "      <th>8</th>\n",
              "      <td>Encouraged by the positive comments about this...</td>\n",
              "      <td>negative</td>\n",
              "      <td>0</td>\n",
              "    </tr>\n",
              "    <tr>\n",
              "      <th>9</th>\n",
              "      <td>If you like original gut wrenching laughter yo...</td>\n",
              "      <td>positive</td>\n",
              "      <td>1</td>\n",
              "    </tr>\n",
              "  </tbody>\n",
              "</table>\n",
              "</div>\n",
              "      <button class=\"colab-df-convert\" onclick=\"convertToInteractive('df-76005978-aedc-42ea-8efc-bc468a38647b')\"\n",
              "              title=\"Convert this dataframe to an interactive table.\"\n",
              "              style=\"display:none;\">\n",
              "        \n",
              "  <svg xmlns=\"http://www.w3.org/2000/svg\" height=\"24px\"viewBox=\"0 0 24 24\"\n",
              "       width=\"24px\">\n",
              "    <path d=\"M0 0h24v24H0V0z\" fill=\"none\"/>\n",
              "    <path d=\"M18.56 5.44l.94 2.06.94-2.06 2.06-.94-2.06-.94-.94-2.06-.94 2.06-2.06.94zm-11 1L8.5 8.5l.94-2.06 2.06-.94-2.06-.94L8.5 2.5l-.94 2.06-2.06.94zm10 10l.94 2.06.94-2.06 2.06-.94-2.06-.94-.94-2.06-.94 2.06-2.06.94z\"/><path d=\"M17.41 7.96l-1.37-1.37c-.4-.4-.92-.59-1.43-.59-.52 0-1.04.2-1.43.59L10.3 9.45l-7.72 7.72c-.78.78-.78 2.05 0 2.83L4 21.41c.39.39.9.59 1.41.59.51 0 1.02-.2 1.41-.59l7.78-7.78 2.81-2.81c.8-.78.8-2.07 0-2.86zM5.41 20L4 18.59l7.72-7.72 1.47 1.35L5.41 20z\"/>\n",
              "  </svg>\n",
              "      </button>\n",
              "      \n",
              "  <style>\n",
              "    .colab-df-container {\n",
              "      display:flex;\n",
              "      flex-wrap:wrap;\n",
              "      gap: 12px;\n",
              "    }\n",
              "\n",
              "    .colab-df-convert {\n",
              "      background-color: #E8F0FE;\n",
              "      border: none;\n",
              "      border-radius: 50%;\n",
              "      cursor: pointer;\n",
              "      display: none;\n",
              "      fill: #1967D2;\n",
              "      height: 32px;\n",
              "      padding: 0 0 0 0;\n",
              "      width: 32px;\n",
              "    }\n",
              "\n",
              "    .colab-df-convert:hover {\n",
              "      background-color: #E2EBFA;\n",
              "      box-shadow: 0px 1px 2px rgba(60, 64, 67, 0.3), 0px 1px 3px 1px rgba(60, 64, 67, 0.15);\n",
              "      fill: #174EA6;\n",
              "    }\n",
              "\n",
              "    [theme=dark] .colab-df-convert {\n",
              "      background-color: #3B4455;\n",
              "      fill: #D2E3FC;\n",
              "    }\n",
              "\n",
              "    [theme=dark] .colab-df-convert:hover {\n",
              "      background-color: #434B5C;\n",
              "      box-shadow: 0px 1px 3px 1px rgba(0, 0, 0, 0.15);\n",
              "      filter: drop-shadow(0px 1px 2px rgba(0, 0, 0, 0.3));\n",
              "      fill: #FFFFFF;\n",
              "    }\n",
              "  </style>\n",
              "\n",
              "      <script>\n",
              "        const buttonEl =\n",
              "          document.querySelector('#df-76005978-aedc-42ea-8efc-bc468a38647b button.colab-df-convert');\n",
              "        buttonEl.style.display =\n",
              "          google.colab.kernel.accessAllowed ? 'block' : 'none';\n",
              "\n",
              "        async function convertToInteractive(key) {\n",
              "          const element = document.querySelector('#df-76005978-aedc-42ea-8efc-bc468a38647b');\n",
              "          const dataTable =\n",
              "            await google.colab.kernel.invokeFunction('convertToInteractive',\n",
              "                                                     [key], {});\n",
              "          if (!dataTable) return;\n",
              "\n",
              "          const docLinkHtml = 'Like what you see? Visit the ' +\n",
              "            '<a target=\"_blank\" href=https://colab.research.google.com/notebooks/data_table.ipynb>data table notebook</a>'\n",
              "            + ' to learn more about interactive tables.';\n",
              "          element.innerHTML = '';\n",
              "          dataTable['output_type'] = 'display_data';\n",
              "          await google.colab.output.renderOutput(dataTable, element);\n",
              "          const docLink = document.createElement('div');\n",
              "          docLink.innerHTML = docLinkHtml;\n",
              "          element.appendChild(docLink);\n",
              "        }\n",
              "      </script>\n",
              "    </div>\n",
              "  </div>\n",
              "  "
            ]
          },
          "metadata": {},
          "execution_count": 5
        }
      ],
      "source": [
        "df[\"binary_sentiment\"] = np.where(df['sentiment'] == 'positive',1,0)\n",
        "df.head(10)"
      ]
    },
    {
      "cell_type": "code",
      "execution_count": null,
      "metadata": {
        "colab": {
          "base_uri": "https://localhost:8080/",
          "height": 283
        },
        "id": "0bN5tdRJ9W2B",
        "outputId": "f77e015c-73b0-4267-d0c9-08e427445e58"
      },
      "outputs": [
        {
          "output_type": "execute_result",
          "data": {
            "text/plain": [
              "<matplotlib.axes._subplots.AxesSubplot at 0x7fb1c0d92550>"
            ]
          },
          "metadata": {},
          "execution_count": 6
        },
        {
          "output_type": "display_data",
          "data": {
            "text/plain": [
              "<Figure size 432x288 with 1 Axes>"
            ],
            "image/png": "[encoded data removed]"
          },
          "metadata": {
            "needs_background": "light"
          }
        }
      ],
      "source": [
        "overall_frequency_count = df.binary_sentiment.value_counts()\n",
        "sns.barplot(x=overall_frequency_count.index, y=overall_frequency_count.values)"
      ]
    },
    {
      "cell_type": "code",
      "execution_count": null,
      "metadata": {
        "colab": {
          "base_uri": "https://localhost:8080/",
          "height": 279
        },
        "id": "6iN2-f9T-dqG",
        "outputId": "9b35bd3e-ee72-40b6-bc23-afecb87a3099"
      },
      "outputs": [
        {
          "output_type": "display_data",
          "data": {
            "text/plain": [
              "<Figure size 432x288 with 1 Axes>"
            ],
            "image/png": "[encoded data removed]"
          },
          "metadata": {
            "needs_background": "light"
          }
        }
      ],
      "source": [
        "re_wordMatcher = re.compile(r'[a-z0-9]+') #Declare regex to extract words\n",
        "numWords = df[\"review\"].map(lambda x: len(re_wordMatcher.findall(x.lower())))\n",
        "g = sns.boxplot(numWords)"
      ]
    },
    {
      "cell_type": "code",
      "execution_count": null,
      "metadata": {
        "id": "AL91HT0w9W7j"
      },
      "outputs": [],
      "source": [
        "train_df = df[:35000]\n",
        "test_df = df[35000:]"
      ]
    },
    {
      "cell_type": "code",
      "execution_count": null,
      "metadata": {
        "id": "g9BVLfhqAfVW",
        "colab": {
          "base_uri": "https://localhost:8080/"
        },
        "outputId": "aeb99cf6-3a5b-446a-d0b5-5f83639432f2"
      },
      "outputs": [
        {
          "output_type": "stream",
          "name": "stdout",
          "text": [
            "Looking in indexes: https://pypi.org/simple, https://us-python.pkg.dev/colab-wheels/public/simple/\n",
            "Requirement already satisfied: wget in /usr/local/lib/python3.8/dist-packages (3.2)\n"
          ]
        }
      ],
      "source": [
        "!pip install wget\n",
        "import wget"
      ]
    },
    {
      "cell_type": "code",
      "execution_count": null,
      "metadata": {
        "colab": {
          "base_uri": "https://localhost:8080/"
        },
        "id": "14tXHIq19no5",
        "outputId": "a5806c13-2264-4e50-bfb6-eae236b1b273"
      },
      "outputs": [
        {
          "output_type": "stream",
          "name": "stdout",
          "text": [
            "Word2Vec file has been found and is being loaded...\n"
          ]
        }
      ],
      "source": [
        "word2VecFile = os.path.join(os.curdir, 'wiki.multi.en.vec')\n",
        "\n",
        "if os.path.exists(word2VecFile):\n",
        "    print('Word2Vec file has been found and is being loaded...')\n",
        "else:    \n",
        "    print('Word2Vec file does not exist and needs to be downloaded')\n",
        "    url = 'https://dl.fbaipublicfiles.com/arrival/vectors/wiki.multi.en.vec'\n",
        "    wget.download(url)\n",
        "    print('Downloading from', url)\n",
        "en_model = KeyedVectors.load_word2vec_format('wiki.multi.en.vec')"
      ]
    },
    {
      "cell_type": "code",
      "execution_count": null,
      "metadata": {
        "id": "mTDL4zOE8PZm"
      },
      "outputs": [],
      "source": [
        "embeddingDim = 300   "
      ]
    },
    {
      "cell_type": "code",
      "execution_count": null,
      "metadata": {
        "colab": {
          "base_uri": "https://localhost:8080/"
        },
        "id": "3bb1d0oW9nsm",
        "outputId": "ac880915-db3c-4103-b6ee-9b583faa8878"
      },
      "outputs": [
        {
          "output_type": "stream",
          "name": "stdout",
          "text": [
            "Vocab size in pretrained model: 200000\n"
          ]
        }
      ],
      "source": [
        "vocab = list(en_model.vocab.keys())\n",
        "print(\"Vocab size in pretrained model:\", len(vocab))\n",
        "\n",
        "# check if the word 'and' is present in the pretrained model\n",
        "assert \"and\" in en_model\n",
        "\n",
        "# check the dimension of the word vectors\n",
        "assert embeddingDim == len(en_model[\"and\"])\n",
        "\n",
        "# initialize a numpy matrix which will store the word vectors\n",
        "# first row is for the padding token\n",
        "pretrained_weights = np.zeros((1+len(vocab), embeddingDim))\n",
        "\n",
        "# tqdm just adds a progress bar\n",
        "for i, token in enumerate(vocab):\n",
        "    pretrained_weights[i, :] = en_model[token]\n",
        "\n",
        "# map tokens in the vocab to ids\n",
        "vocab = dict(zip(vocab, range(1, len(vocab)+1)))"
      ]
    },
    {
      "cell_type": "code",
      "execution_count": null,
      "metadata": {
        "id": "GijyBvff9nu_"
      },
      "outputs": [],
      "source": [
        "def reviewText2Features(reviewText):\n",
        "    \"\"\"\n",
        "    Function which takes review text (basically a string!) as input and returns a features matrix X of shape\n",
        "    (maxlen, embeddingDim). This is done by splitting the review into words and then representing each word by it's\n",
        "    word vector obtained from the Word2Vec model. Sentences having more than maxlen words are truncated while shorter\n",
        "    ones are zero-padded by pre-adding all zero vectors.\n",
        "    \"\"\"\n",
        "    X = []\n",
        "    \n",
        "    reviewWords = re_wordMatcher.findall(reviewText.lower())\n",
        "    \n",
        "    \"\"\"\n",
        "    Tokenize the review using the word-matching regex and get its word vector from the pretrained Word2Vec model.\n",
        "    Words not found in the Word2Vec model are ignored\n",
        "    \"\"\"\n",
        "    for i, word in enumerate(reviewWords):\n",
        "        if word not in en_model:\n",
        "            continue\n",
        "        if i >= maxlen:\n",
        "            break\n",
        "        # X.append(en_model[word])\n",
        "        X.append(vocab[word])\n",
        "    \n",
        "    \"\"\"\n",
        "    Add zero padding in the begining of the sequence if the number of words is less than maxlen.\n",
        "    \"\"\"\n",
        "    if len(X) < maxlen:\n",
        "        # zero_padding = [[0.]*embeddingDim]*(maxlen - len(X))\n",
        "        zero_padding = [0.]*(maxlen - len(X))\n",
        "        X = zero_padding + X\n",
        "    \n",
        "    return X # np.array(X)\n",
        "        \n",
        "def row2Features(row):\n",
        "    \"\"\"\n",
        "    Function which takes a datafram row as input and produces features and labels.\n",
        "    \n",
        "    Input: row | Type: pandas.core.series.Series\n",
        "    \n",
        "    Output: X, y | Type: X - np.ndarray of shape (maxlen, embeddingDim) & y - int where Positive = 0 & Negative = 1\n",
        "    \"\"\"    \n",
        "    \n",
        "    X = reviewText2Features(row[\"review\"])\n",
        "    y = 1. if row[\"sentiment\"] == \"negative\" else 0.\n",
        "        \n",
        "    return X, y"
      ]
    },
    {
      "cell_type": "code",
      "execution_count": null,
      "metadata": {
        "colab": {
          "base_uri": "https://localhost:8080/"
        },
        "id": "b3HD8JnY94qt",
        "outputId": "48d62f9f-4eba-46a2-b1f2-12d46443bd6d"
      },
      "outputs": [
        {
          "output_type": "stream",
          "name": "stdout",
          "text": [
            "Review: One of the other reviewers has mentioned that after watching just 1 Oz episode you'll be hooked. They are right, as this is exactly what happened with me.<br /><br />The first thing that struck me about Oz was its brutality and unflinching scenes of violence, which set in right from the word GO. Trust me, this is not a show for the faint hearted or timid. This show pulls no punches with regards to drugs, sex or violence. Its is hardcore, in the classic use of the word.<br /><br />It is called OZ as that is the nickname given to the Oswald Maximum Security State Penitentary. It focuses mainly on Emerald City, an experimental section of the prison where all the cells have glass fronts and face inwards, so privacy is not high on the agenda. Em City is home to many..Aryans, Muslims, gangstas, Latinos, Christians, Italians, Irish and more....so scuffles, death stares, dodgy dealings and shady agreements are never far away.<br /><br />I would say the main appeal of the show is due to the fact that it goes where other shows wouldn't dare. Forget pretty pictures painted for mainstream audiences, forget charm, forget romance...OZ doesn't mess around. The first episode I ever saw struck me as so nasty it was surreal, I couldn't say I was ready for it, but as I watched more, I developed a taste for Oz, and got accustomed to the high levels of graphic violence. Not just violence, but injustice (crooked guards who'll be sold out for a nickel, inmates who'll kill on order and get away with it, well mannered, middle class inmates being turned into prison bitches due to their lack of street skills or prison experience) Watching Oz, you may become comfortable with what is uncomfortable viewing....thats if you can get in touch with your darker side.\n",
            "Rating: 1\n",
            "Sentiment: positive\n",
            "Review words: ['one', 'of', 'the', 'other', 'reviewers', 'has', 'mentioned', 'that', 'after', 'watching', 'just', '1', 'oz', 'episode', 'you', 'll', 'be', 'hooked', 'they', 'are', 'right', 'as', 'this', 'is', 'exactly', 'what', 'happened', 'with', 'me', 'br', 'br', 'the', 'first', 'thing', 'that', 'struck', 'me', 'about', 'oz', 'was', 'its', 'brutality', 'and', 'unflinching', 'scenes', 'of', 'violence', 'which', 'set', 'in', 'right', 'from', 'the', 'word', 'go', 'trust', 'me', 'this', 'is', 'not', 'a', 'show', 'for', 'the', 'faint', 'hearted', 'or', 'timid', 'this', 'show', 'pulls', 'no', 'punches', 'with', 'regards', 'to', 'drugs', 'sex', 'or', 'violence', 'its', 'is', 'hardcore', 'in', 'the', 'classic', 'use', 'of', 'the', 'word', 'br', 'br', 'it', 'is', 'called', 'oz', 'as', 'that', 'is', 'the', 'nickname', 'given', 'to', 'the', 'oswald', 'maximum', 'security', 'state', 'penitentary', 'it', 'focuses', 'mainly', 'on', 'emerald', 'city', 'an', 'experimental', 'section', 'of', 'the', 'prison', 'where', 'all', 'the', 'cells', 'have', 'glass', 'fronts', 'and', 'face', 'inwards', 'so', 'privacy', 'is', 'not', 'high', 'on', 'the', 'agenda', 'em', 'city', 'is', 'home', 'to', 'many', 'aryans', 'muslims', 'gangstas', 'latinos', 'christians', 'italians', 'irish', 'and', 'more', 'so', 'scuffles', 'death', 'stares', 'dodgy', 'dealings', 'and', 'shady', 'agreements', 'are', 'never', 'far', 'away', 'br', 'br', 'i', 'would', 'say', 'the', 'main', 'appeal', 'of', 'the', 'show', 'is', 'due', 'to', 'the', 'fact', 'that', 'it', 'goes', 'where', 'other', 'shows', 'wouldn', 't', 'dare', 'forget', 'pretty', 'pictures', 'painted', 'for', 'mainstream', 'audiences', 'forget', 'charm', 'forget', 'romance', 'oz', 'doesn', 't', 'mess', 'around', 'the', 'first', 'episode', 'i', 'ever', 'saw', 'struck', 'me', 'as', 'so', 'nasty', 'it', 'was', 'surreal', 'i', 'couldn', 't', 'say', 'i', 'was', 'ready', 'for', 'it', 'but', 'as', 'i', 'watched', 'more', 'i', 'developed', 'a', 'taste', 'for', 'oz', 'and', 'got', 'accustomed', 'to', 'the', 'high', 'levels', 'of', 'graphic', 'violence', 'not', 'just', 'violence', 'but', 'injustice', 'crooked', 'guards', 'who', 'll', 'be', 'sold', 'out', 'for', 'a', 'nickel', 'inmates', 'who', 'll', 'kill', 'on', 'order', 'and', 'get', 'away', 'with', 'it', 'well', 'mannered', 'middle', 'class', 'inmates', 'being', 'turned', 'into', 'prison', 'bitches', 'due', 'to', 'their', 'lack', 'of', 'street', 'skills', 'or', 'prison', 'experience', 'watching', 'oz', 'you', 'may', 'become', 'comfortable', 'with', 'what', 'is', 'uncomfortable', 'viewing', 'thats', 'if', 'you', 'can', 'get', 'in', 'touch', 'with', 'your', 'darker', 'side']\n"
          ]
        }
      ],
      "source": [
        "sampleRow = df.iloc[0]\n",
        "reviewWords = re_wordMatcher.findall(sampleRow[\"review\"].lower())\n",
        "print(\"Review:\", sampleRow[\"review\"])\n",
        "print(\"Rating:\", sampleRow[\"binary_sentiment\"])\n",
        "print(\"Sentiment:\", sampleRow[\"sentiment\"])\n",
        "print(\"Review words:\", reviewWords)"
      ]
    },
    {
      "cell_type": "code",
      "execution_count": null,
      "metadata": {
        "id": "u888UVheDYE3"
      },
      "outputs": [],
      "source": [
        "maxlen = 258"
      ]
    },
    {
      "cell_type": "code",
      "execution_count": null,
      "metadata": {
        "colab": {
          "base_uri": "https://localhost:8080/"
        },
        "id": "wZjm3z9v9-mW",
        "outputId": "0d8adc58-9367-48f3-d511-207d5dd95be0"
      },
      "outputs": [
        {
          "output_type": "stream",
          "name": "stdout",
          "text": [
            "Dimension of X: 258\n",
            "Label y: 0.0\n"
          ]
        }
      ],
      "source": [
        "X, y = row2Features(sampleRow)\n",
        "print(\"Dimension of X:\", len(X))\n",
        "print(\"Label y:\", y)"
      ]
    },
    {
      "cell_type": "code",
      "execution_count": null,
      "metadata": {
        "id": "vZXtYl869-0l"
      },
      "outputs": [],
      "source": [
        "def shuffleArray(X, y):\n",
        "    idx = np.arange(X.shape[0])\n",
        "    np.random.shuffle(idx)\n",
        "    X = X[idx, :]\n",
        "    y = y[idx]\n",
        "    return X, y\n",
        "\n",
        "def generateModelReadyData(data, batchSize = 128, shuffle=False):\n",
        "    \"\"\"\n",
        "    Generator function which generates features and labels in batches\n",
        "    \n",
        "    Input:b\n",
        "    data - DataFrame where each row has review and sentiment\n",
        "    batchSize - No. of rows for which features will be created and returned in a batch.\n",
        "    Note: This is useful for running mini-batch Gradient Descent optimization when the dataset is large.\n",
        "    \n",
        "    Output:\n",
        "    X - 3D np.ndarray of shape (batchSize, maxlen, embeddingDim)\n",
        "    y - 1D np. array of shape (batchSize,)        \n",
        "    \"\"\"\n",
        "    \n",
        "    while(True):\n",
        "        X = []\n",
        "        y = []\n",
        "        for _, row in data.iterrows():\n",
        "            \"\"\"Generate features and label for this row\"\"\"\n",
        "            X_, y_ = row2Features(row)\n",
        "\n",
        "            \"\"\"Keep accumulating the row-wise features\"\"\"\n",
        "            X.append(X_)\n",
        "            y.append(y_)   \n",
        "\n",
        "            \"\"\"If number of rows processed is greater than batchSize yield the batch and trim down X & y\n",
        "            Note: This way we avoid running into memory issues by not bloating X and y bigger and bigger\n",
        "            \"\"\"\n",
        "            if len(X) > batchSize:\n",
        "                temp_X, temp_y = np.array(X[:batchSize]), np.array(y[:batchSize])\n",
        "                if shuffle:\n",
        "                    temp_X, temp_y = shuffleArray(temp_X, temp_y)\n",
        "                \n",
        "                X, y = X[batchSize:], y[batchSize:]                    \n",
        "                yield temp_X, temp_y\n",
        "\n",
        "        \"\"\"Yield the remaining few rows when number of rows in data isn't a mutiple of batchSize\"\"\"\n",
        "        if len(X) > 0:\n",
        "            temp_X, temp_y = np.array(X), np.array(y)\n",
        "            if shuffle:\n",
        "                temp_X, temp_y = shuffleArray(temp_X, temp_y)\n",
        "            \n",
        "            yield temp_X, temp_y"
      ]
    },
    {
      "cell_type": "code",
      "execution_count": null,
      "metadata": {
        "colab": {
          "base_uri": "https://localhost:8080/"
        },
        "id": "E4T3_DKLBBui",
        "outputId": "32e77018-7bb8-4ff0-cfcf-707fe61f9a07"
      },
      "outputs": [
        {
          "output_type": "stream",
          "name": "stdout",
          "text": [
            "Batch: 0\n",
            "Shape of X & y matches expected values\n",
            "Batch: 1\n",
            "Shape of X & y matches expected values\n",
            "Batch: 2\n",
            "Shape of X & y matches expected values\n"
          ]
        }
      ],
      "source": [
        "numBatches = 0\n",
        "for i, (X, y) in enumerate(generateModelReadyData(df, batchSize=128, shuffle=True)):\n",
        "    if numBatches >= 3:\n",
        "        break\n",
        "    \n",
        "    else:\n",
        "        print(\"Batch:\", i)\n",
        "        assert X.shape == (128, maxlen)\n",
        "        assert y.shape == (128,)\n",
        "        print(\"Shape of X & y matches expected values\")\n",
        "    numBatches += 1"
      ]
    },
    {
      "cell_type": "code",
      "execution_count": null,
      "metadata": {
        "colab": {
          "base_uri": "https://localhost:8080/"
        },
        "id": "rk8meSbVBImJ",
        "outputId": "2ec3ee1d-37c0-43e6-ac49-f738c6bd4b40"
      },
      "outputs": [
        {
          "output_type": "stream",
          "name": "stdout",
          "text": [
            "cuda available\n"
          ]
        }
      ],
      "source": [
        "# torch.cuda.is_available() checks and returns a Boolean True if a GPU is available, else it'll return False\n",
        "is_cuda = torch.cuda.is_available()\n",
        "\n",
        "# If we have a GPU available, we'll set our device to GPU. We'll use this device variable later in our code.\n",
        "if is_cuda:\n",
        "    print(\"cuda available\")\n",
        "    device = torch.device(\"cuda\")\n",
        "else:\n",
        "    device = torch.device(\"cpu\")"
      ]
    },
    {
      "cell_type": "code",
      "execution_count": null,
      "metadata": {
        "id": "OH4uK948BQ54"
      },
      "outputs": [],
      "source": [
        "class SentimentNet(nn.Module):\n",
        "    def __init__(self, embedding_dim, hidden_dim, vocab_size, pretrained_weights):\n",
        "        super(SentimentNet, self).__init__()\n",
        "        \n",
        "        self.embedding=nn.Embedding(vocab_size, embedding_dim)\n",
        "        self.embedding.weight.data.copy_(torch.from_numpy(pretrained_weights))\n",
        "        \n",
        "        \"\"\"\n",
        "        Adding a dropout layer to force some of the feature values to zero.\n",
        "        Note: Dropout is a regularization technique which sets the activation of few randomly chosen neurons of\n",
        "        a hidden layer to zero. It can also be applied to the input layer where some of the input features are set to zero.\n",
        "        \"\"\"\n",
        "        #print(embedding_dim, hidden_dim, vocab_size, pretrained_weights)\n",
        "        self.sentInputDropout = nn.Dropout(0.1)\n",
        "        \n",
        "        \"\"\"\n",
        "        Now let's stack a couple of bidirectional RNNs to process the input sequence and extract features\n",
        "        \"\"\"\n",
        "        self.biLSTM1 = nn.LSTM(embedding_dim, hidden_dim[0], bidirectional=True, batch_first=True)\n",
        "        self.biLSTMDropOut = nn.Dropout(0.1)\n",
        "        # self.biLSTM2 = nn.LSTM(2*hidden_dim[0], hidden_dim[1], bidirectional=True, batch_first=True)\n",
        "        \n",
        "        self.dropout1 = nn.Dropout(0.1)\n",
        "        self.dense1 = nn.Linear(2*hidden_dim[0], 50)\n",
        "        self.relu1 = nn.ReLU()\n",
        "        self.dropout2 = nn.Dropout(0.1)\n",
        "        \n",
        "        self.outputLayer = nn.Linear(50, 1)\n",
        "        self.sigmoid = nn.Sigmoid()\n",
        "        \n",
        "        self.hidden_dim = hidden_dim\n",
        "        \n",
        "    def forward(self, x):\n",
        "        \n",
        "        batch_len = x.shape[0]\n",
        "        out = self.embedding(x)\n",
        "        out = self.sentInputDropout(out)\n",
        "        out, hidden = self.biLSTM1(out)\n",
        "        out = self.biLSTMDropOut(out)\n",
        "        # out, hidden = self.biLSTM2(out)\n",
        "        \n",
        "        out = self.dropout1(out)\n",
        "        out = self.dense1(out)\n",
        "        out = self.relu1(out)\n",
        "        out = self.dropout2(out)\n",
        "        \n",
        "        out = self.outputLayer(out)\n",
        "        out = self.sigmoid(out)\n",
        "        out = out.view(batch_len, -1)\n",
        "        out = out[:,-1]\n",
        "        return out  "
      ]
    },
    {
      "cell_type": "code",
      "execution_count": null,
      "metadata": {
        "colab": {
          "base_uri": "https://localhost:8080/"
        },
        "id": "8FECOX3NBTkr",
        "outputId": "3a5b860e-558a-4fad-dba6-bdebd1fc8a97"
      },
      "outputs": [
        {
          "output_type": "execute_result",
          "data": {
            "text/plain": [
              "SentimentNet(\n",
              "  (embedding): Embedding(200001, 300)\n",
              "  (sentInputDropout): Dropout(p=0.1, inplace=False)\n",
              "  (biLSTM1): LSTM(300, 100, batch_first=True, bidirectional=True)\n",
              "  (biLSTMDropOut): Dropout(p=0.1, inplace=False)\n",
              "  (dropout1): Dropout(p=0.1, inplace=False)\n",
              "  (dense1): Linear(in_features=200, out_features=50, bias=True)\n",
              "  (relu1): ReLU()\n",
              "  (dropout2): Dropout(p=0.1, inplace=False)\n",
              "  (outputLayer): Linear(in_features=50, out_features=1, bias=True)\n",
              "  (sigmoid): Sigmoid()\n",
              ")"
            ]
          },
          "metadata": {},
          "execution_count": 21
        }
      ],
      "source": [
        "model = SentimentNet(embeddingDim, [100, 50], 1+len(vocab), pretrained_weights)\n",
        "model.to(device)"
      ]
    },
    {
      "cell_type": "code",
      "execution_count": null,
      "metadata": {
        "id": "foOppzthBYQ9"
      },
      "outputs": [],
      "source": [
        "lr=0.005\n",
        "criterion = nn.BCELoss()\n",
        "optimizer = torch.optim.Adam(model.parameters(), lr=lr)"
      ]
    },
    {
      "cell_type": "code",
      "execution_count": null,
      "metadata": {
        "colab": {
          "base_uri": "https://localhost:8080/"
        },
        "id": "8WqS8rQEBcI4",
        "outputId": "73d4359a-0dcf-433a-a88c-f7521ec3e5ef"
      },
      "outputs": [
        {
          "output_type": "stream",
          "name": "stdout",
          "text": [
            "Epoch: 1\n",
            "Running a pass over the training data...\n",
            "Batches completed: 100\n",
            "Batches completed: 200\n",
            "Batches completed: 275\n",
            "Running a pass over the test data...\n",
            "Batches completed: 100\n",
            "Batches completed: 119\n",
            "Epoch: 1/5... Step: 274... Loss: 0.358391... Val Loss: 0.381236\n",
            "Validation loss decreased (inf --> 0.381236).  Saving model ...\n",
            "Epoch: 2\n",
            "Running a pass over the training data...\n",
            "Batches completed: 100\n",
            "Batches completed: 200\n",
            "Batches completed: 275\n",
            "Running a pass over the test data...\n",
            "Batches completed: 100\n",
            "Batches completed: 119\n",
            "Epoch: 2/5... Step: 548... Loss: 0.168191... Val Loss: 0.347711\n",
            "Validation loss decreased (0.381236 --> 0.347711).  Saving model ...\n",
            "Epoch: 3\n",
            "Running a pass over the training data...\n",
            "Batches completed: 100\n",
            "Batches completed: 200\n",
            "Batches completed: 275\n",
            "Running a pass over the test data...\n",
            "Batches completed: 100\n",
            "Batches completed: 119\n",
            "Epoch: 3/5... Step: 822... Loss: 0.029934... Val Loss: 0.459014\n",
            "Epoch: 4\n",
            "Running a pass over the training data...\n",
            "Batches completed: 100\n",
            "Batches completed: 200\n",
            "Batches completed: 275\n",
            "Running a pass over the test data...\n",
            "Batches completed: 100\n",
            "Batches completed: 119\n",
            "Epoch: 4/5... Step: 1096... Loss: 0.005852... Val Loss: 0.616920\n",
            "Epoch: 5\n",
            "Running a pass over the training data...\n",
            "Batches completed: 100\n",
            "Batches completed: 200\n",
            "Batches completed: 275\n",
            "Running a pass over the test data...\n",
            "Batches completed: 100\n",
            "Batches completed: 119\n",
            "Epoch: 5/5... Step: 1370... Loss: 0.002031... Val Loss: 0.644540\n"
          ]
        }
      ],
      "source": [
        "epochs = 5\n",
        "counter = 0\n",
        "print_every = 1000\n",
        "clip = 5\n",
        "valid_loss_min = np.Inf\n",
        "\n",
        "model = model.float()\n",
        "model.train()\n",
        "for i in range(epochs):\n",
        "    print(\"Epoch:\", i+1)\n",
        "    #h = model.init_hidden(128)\n",
        "    print(\"Running a pass over the training data...\")\n",
        "    for j, (inputs, labels) in enumerate(generateModelReadyData(train_df, batchSize=128, shuffle=True)):\n",
        "        if j >= np.ceil(train_df.shape[0]/128):\n",
        "            break\n",
        "        \n",
        "    #for inputs, labels in train_loader:\n",
        "        counter += 1\n",
        "        #h = tuple([e.data for e in h])\n",
        "        inputs, labels = torch.from_numpy(inputs), torch.from_numpy(labels)\n",
        "        inputs, labels = inputs.to(device), labels.to(device)\n",
        "        model.zero_grad()\n",
        "        #output, h = model(inputs, h)\n",
        "        output = model(inputs.long())\n",
        "        #print(output.shape)\n",
        "        #print(output)\n",
        "        loss = criterion(output.squeeze(), labels.float())\n",
        "        loss.backward()\n",
        "        nn.utils.clip_grad_norm_(model.parameters(), clip)\n",
        "        optimizer.step()        \n",
        "        if (j+1) % 100 == 0:\n",
        "            print(\"Batches completed:\", j+1)\n",
        "    \n",
        "    print(\"Batches completed:\", j+1)\n",
        "\n",
        "    #val_h = model.init_hidden(batch_size)\n",
        "    val_losses = []\n",
        "    model.eval()\n",
        "    print(\"Running a pass over the test data...\")\n",
        "    for k, (inp, lab) in enumerate(generateModelReadyData(test_df, batchSize=128, shuffle=False)):\n",
        "        if k >= np.ceil(test_df.shape[0]/128):\n",
        "            break\n",
        "    #for inp, lab in val_loader:\n",
        "        #val_h = tuple([each.data for each in val_h])\n",
        "        inp, lab = torch.from_numpy(inp), torch.from_numpy(lab)\n",
        "        inp, lab = inp.to(device), lab.to(device)\n",
        "        out = model(inp.long())\n",
        "        val_loss = criterion(out.squeeze(), lab.float())\n",
        "        val_losses.append(val_loss.item())\n",
        "        if (k+1) % 100 == 0:\n",
        "            print(\"Batches completed:\", k+1)\n",
        "    \n",
        "    print(\"Batches completed:\", k+1)\n",
        "\n",
        "    model.train()\n",
        "    print(\"Epoch: {}/{}...\".format(i+1, epochs),\n",
        "          \"Step: {}...\".format(counter),\n",
        "          \"Loss: {:.6f}...\".format(loss.item()),\n",
        "          \"Val Loss: {:.6f}\".format(np.mean(val_losses)))\n",
        "    if np.mean(val_losses) <= valid_loss_min:\n",
        "        torch.save(model.state_dict(), './state_dict.pt')\n",
        "        print('Validation loss decreased ({:.6f} --> {:.6f}).  Saving model ...'.format(valid_loss_min,np.mean(val_losses)))\n",
        "        valid_loss_min = np.mean(val_losses)"
      ]
    },
    {
      "cell_type": "code",
      "execution_count": null,
      "metadata": {
        "colab": {
          "base_uri": "https://localhost:8080/"
        },
        "id": "IyqTEuUnBfnC",
        "outputId": "ef5ec469-b62e-4051-923d-94a1b9c030cc"
      },
      "outputs": [
        {
          "output_type": "execute_result",
          "data": {
            "text/plain": [
              "0    17510\n",
              "1    17490\n",
              "Name: binary_sentiment, dtype: int64"
            ]
          },
          "metadata": {},
          "execution_count": 24
        }
      ],
      "source": [
        "freqCounts = train_df[\"binary_sentiment\"].value_counts()\n",
        "# weightOfPositive = round( (1./freqCounts[\"positive\"]) / (1./freqCounts[\"positive\"] + 1./freqCounts[\"negative\"]), 3)\n",
        "# weightOfNegative = round( (1./freqCounts[\"negative\"]) / (1./freqCounts[\"positive\"] + 1./freqCounts[\"negative\"]), 3)\n",
        "# print(\"Class weights:\", weightOfPositive, weightOfNegative)\n",
        "freqCounts"
      ]
    },
    {
      "cell_type": "code",
      "execution_count": null,
      "metadata": {
        "colab": {
          "base_uri": "https://localhost:8080/"
        },
        "id": "T5Bz9uEwBhoL",
        "outputId": "a6246dc4-9500-4d37-df6f-d05d523e9aa6"
      },
      "outputs": [
        {
          "output_type": "execute_result",
          "data": {
            "text/plain": [
              "SentimentNet(\n",
              "  (embedding): Embedding(200001, 300)\n",
              "  (sentInputDropout): Dropout(p=0.1, inplace=False)\n",
              "  (biLSTM1): LSTM(300, 100, batch_first=True, bidirectional=True)\n",
              "  (biLSTMDropOut): Dropout(p=0.1, inplace=False)\n",
              "  (dropout1): Dropout(p=0.1, inplace=False)\n",
              "  (dense1): Linear(in_features=200, out_features=50, bias=True)\n",
              "  (relu1): ReLU()\n",
              "  (dropout2): Dropout(p=0.1, inplace=False)\n",
              "  (outputLayer): Linear(in_features=50, out_features=1, bias=True)\n",
              "  (sigmoid): Sigmoid()\n",
              ")"
            ]
          },
          "metadata": {},
          "execution_count": 25
        }
      ],
      "source": [
        "model.load_state_dict(torch.load('./state_dict.pt'))\n",
        "model.to(device)"
      ]
    },
    {
      "cell_type": "code",
      "execution_count": null,
      "metadata": {
        "colab": {
          "base_uri": "https://localhost:8080/"
        },
        "id": "EZMKkPpOBlMk",
        "outputId": "ef382206-3294-4699-d57e-99577822c81a"
      },
      "outputs": [
        {
          "output_type": "stream",
          "name": "stdout",
          "text": [
            "Batches completed: 100\n",
            "Batches completed: 119\n",
            "Test loss: 0.348\n",
            "Test accuracy: 86.553%\n"
          ]
        }
      ],
      "source": [
        "test_losses = []\n",
        "num_correct = 0\n",
        "pred_proba = []\n",
        "actual = []\n",
        "\n",
        "model.eval()\n",
        "for j, (X_test, y_test) in enumerate(generateModelReadyData(test_df, batchSize=128)):\n",
        "    if j >= np.ceil(test_df.shape[0]/128):\n",
        "        break\n",
        "    \n",
        "    inputs_test, labels_test = torch.from_numpy(X_test), torch.from_numpy(y_test)\n",
        "    inputs_test, labels_test = inputs_test.to(device), labels_test.to(device)\n",
        "    output_test = model(inputs_test.long())\n",
        "    test_loss = criterion(output_test.squeeze(), labels_test.float())\n",
        "    test_losses.append(test_loss.item())\n",
        "    pred = torch.round(output_test.squeeze())  # Rounds the output to 0/1\n",
        "    correct_tensor = pred.eq(labels_test.float().view_as(pred))\n",
        "    correct = np.squeeze(correct_tensor.cpu().numpy())\n",
        "    num_correct += np.sum(correct)\n",
        "    pred_proba.extend(output_test.cpu().squeeze().detach().numpy())\n",
        "    actual.extend(y_test)\n",
        "    \n",
        "    if (j+1) % 100 == 0:\n",
        "        print(\"Batches completed:\", j+1)\n",
        "\n",
        "print(\"Batches completed:\", j+1)\n",
        "\n",
        "print(\"Test loss: {:.3f}\".format(np.mean(test_losses)))\n",
        "test_acc = num_correct/len(test_df)\n",
        "print(\"Test accuracy: {:.3f}%\".format(test_acc*100))"
      ]
    },
    {
      "cell_type": "code",
      "execution_count": null,
      "metadata": {
        "colab": {
          "base_uri": "https://localhost:8080/"
        },
        "id": "H3l6KxynBnw4",
        "outputId": "8f7068bb-3381-40f4-bde4-54a29b6ae024"
      },
      "outputs": [
        {
          "output_type": "stream",
          "name": "stdout",
          "text": [
            "Area under ROC: 0.9369924568754789\n"
          ]
        }
      ],
      "source": [
        "print(\"Area under ROC:\", roc_auc_score(actual, pred_proba))"
      ]
    },
    {
      "cell_type": "code",
      "execution_count": null,
      "metadata": {
        "colab": {
          "base_uri": "https://localhost:8080/",
          "height": 295
        },
        "id": "AE1b23TTBp7N",
        "outputId": "37bd7103-20ad-483d-8847-fa01b440b174"
      },
      "outputs": [
        {
          "output_type": "display_data",
          "data": {
            "text/plain": [
              "<Figure size 432x288 with 1 Axes>"
            ],
            "image/png": "[encoded data removed]"
          },
          "metadata": {
            "needs_background": "light"
          }
        }
      ],
      "source": [
        "fpr, tpr, thresholds = roc_curve(actual, pred_proba) \n",
        "roc_auc = auc(fpr, tpr)\n",
        "\n",
        "plt.figure()\n",
        "lw = 2\n",
        "plt.plot(fpr, tpr, color='darkorange',\n",
        "         lw=lw, label='ROC curve (area = %0.2f)' % roc_auc)\n",
        "plt.plot([0, 1], [0, 1], color='navy', lw=lw, linestyle='--')\n",
        "plt.xlim([0.0, 1.0])\n",
        "plt.ylim([0.0, 1.05])\n",
        "plt.xlabel('False Positive Rate')\n",
        "plt.ylabel('True Positive Rate')\n",
        "plt.title('Receiver operating characteristic example')\n",
        "plt.legend(loc=\"lower right\")\n",
        "plt.show()"
      ]
    },
    {
      "cell_type": "code",
      "execution_count": null,
      "metadata": {
        "id": "ibGcDBkRBsTz"
      },
      "outputs": [],
      "source": [
        "predicted = pd.Series([\"negative\" if p>=0.5 else \"positive\" for p in pred_proba], name=\"Predicted\")\n",
        "actual = pd.Series(test_df[\"sentiment\"], name=\"Actual\")\n",
        "confusion_matrix = pd.crosstab(actual, predicted)"
      ]
    },
    {
      "cell_type": "code",
      "execution_count": null,
      "metadata": {
        "id": "69goh7hmBunJ"
      },
      "outputs": [],
      "source": [
        "# ax= plt.subplot()\n",
        "# g = sns.heatmap(confusion_matrix.values, annot=True, ax = ax, fmt=\"d\", cmap=\"YlGnBu\")\n",
        "# g.set_xlabel('Predicted')\n",
        "# g.set_ylabel('Actual')\n",
        "# g.set_title('Confusion Matrix')\n",
        "# g.xaxis.set_ticklabels(['Negative', 'Positive'])\n",
        "# g.yaxis.set_ticklabels(['Negative', 'Positive'])\n",
        "# plt.show()"
      ]
    },
    {
      "cell_type": "code",
      "execution_count": null,
      "metadata": {
        "id": "t58QCmYPBxmE"
      },
      "outputs": [],
      "source": [
        "def predictSentiment(reviewText):\n",
        "    X = reviewText2Features(reviewText)\n",
        "    X = np.array(X).reshape((1, -1))\n",
        "    X = torch.from_numpy(X)\n",
        "    X = X.to(device)\n",
        "    model.eval()\n",
        "    pred_proba = model(X.long())\n",
        "    pred_proba = pred_proba.cpu().squeeze().detach().numpy()\n",
        "    if pred_proba >= 0.5:\n",
        "        return \"Negative\", pred_proba\n",
        "    else:\n",
        "        return \"Positive\", pred_proba"
      ]
    },
    {
      "cell_type": "code",
      "execution_count": null,
      "metadata": {
        "colab": {
          "base_uri": "https://localhost:8080/"
        },
        "id": "VZ31ZpVFB0gB",
        "outputId": "5b44ec53-9ed6-4429-fe11-eb2534757f40"
      },
      "outputs": [
        {
          "output_type": "stream",
          "name": "stdout",
          "text": [
            "Review:  Be careful with this one. Once you get yer mitts on it, it'll change the way you look at kung-fu flicks. You will be yearning a plot from all of the kung-fu films now, you will be wanting character depth and development, you will be craving mystery and unpredictability, you will demand dynamic camera work and incredible backdrops. Sadly, you won't find all of these aspects together in one kung-fu movie, EXCEPT for Five Deadly Venoms!<br /><br />Easily the best kung-fu movie of all-time, Venoms blends a rich plot, full of twists and turns, with colourful (and developed) characters, along with some of the best camerawork to come out of the 70s. The success of someone liking the film depends on the viewers ability to decipher which character is which, and who specializes in what venom. One is the Centipede, two is the Snake, three is the Scorpion, four is the Lizard, and five is the Toad. Each character has different traits, characteristics, strengths, and weaknesses. Therein lies the hook, we learn along with the student character, finding out who these different men turn out to be. We are in his shoes (so to speak), and we have to pick who we trust, and who we don't, just like he does. We learn along with him.<br /><br />Not only is the plot, the characters, and the camerawork great, it's also fun to watch, which in my book makes it more valuable than almost any other movie of it's kind. It's worth quite a few watches to pick up on everything that's going on. Venoms is a lesson on what kung-fu can really do...just don't expect many other kung-fu films to live up to it's gauntlet.\n",
            "Actual Sentiment: positive\n",
            "Predicted Sentiment:  Positive\n",
            "x---------------------------------------------------------------------------------------------------x\n",
            "Review:  Following is a little-known 1998 British film, which was made with a budget of £8000 and has a running time of 70 minutes. When watching it, you'd never expect its director to go on to make it in Hollywood and become one of the most acclaimed and celebrated directors of the 21st Century  well, everybody has to start somewhere I suppose.<br /><br />The director of Following, as you probably already know is Englishman Christopher Nolan, who directly after Following would go on to direct the critically-acclaimed independent film Memento; a few years later he would be hired by Warner Bros. to direct the new Batman series, which further brought him acclaim, and so on and so forth. My point is, everybody has to start somewhere  even if it's not in the most astounding debut  and Christopher Nolan introduces himself to the world in 1998 with Following.<br /><br />When watching it, I couldn't help but draw resemblances to another directorial debut, avant-garde auteur David Lynch's Eraserhead. Following is not a surrealist psychological horror film in that sense, but the similarities are noticeable; most notable, it's shot in grainy black-and-white and has an atmosphere about it that makes it unique. It's hard to describe in words, but it loosely resembles the smoky atmosphere you'd find in the film noirs of old. Hence, it can be said that Following is a contemporary film noir, or a neo-noir. Overall, it's an amalgamation of that and a psychological thriller, and the story is most appropriate to these two genres.<br /><br />The main character is nameless, and the movie's title stems from an early, obsessive-compulsive trait he possessed  randomly picking out people on the street and following them, sometimes even for hours on end. During one of these 'stalking expeditions', the main character becomes noticed by one of the people he is following, and is confronted. Turns out that the 'confronter' is a man who is willing to befriend our narrator, and he introduces himself; his name is Cobb, and he's a petty burglar who invites the narrator to follow him on his burglaries.<br /><br />From there, the main character becomes swept up in Cobb's world, and he becomes embroiled in crime, passion and violence as he gets more and more intimate with Cobb. Following is not so much a character study, but instead a film which follows the tumultuous relationship between these two main characters, and the devastating ramifications it has on our narrator. Nolan succeeds in making the film resemble a film noir, and emulates the respective atmosphere well.<br /><br />As a thriller, Following is taut and atmospheric; however as a film in general, it's somewhat of a disappointment. If not that, then one could definitely call it underwhelming. The entire film is shot in a non-chronological and non-linear fashion, and it makes the story and film-experience unique, to some extent  this style has been done so many times now it's almost commonplace technique  and the story itself is unique to some extent.<br /><br />However, Following is ultimately underwhelming for the entire film, and is disappointingly unspectacular. The story calls for more  more action, more suspense and more thrills  but it becomes too embroiled in its own storyline, and instead focuses on creating an intricate story. Following does succeed in doing that, but without any other elements it's a film noir that doesn't quite work out; it's got a sense of emptiness which isn't enormous, but still noticeable nonetheless. Furthermore, the film's shocking revelation at the end  almost a mandatory convention in film noirs  is one that makes us feel cheated; it's unpredictable and comes out of nowhere, but in relation to the story it's disappointing, as it essentially makes the preceding scenes, and the entire film, seem like an enormous waste of time.<br /><br />But the positives far outweigh the negatives, and in the end Following turns out to be a flawed but satisfying film, Yes, everybody has to start somewhere. Christopher Nolan does it with Following, and he does it in a fine manner. A quiet, meek but fine manner. It's not the most astounding movie, and it isn't quite worthy of the accolades the director would go on to receive in the following decade, but it's still a good film nonetheless. When singling out Following, you find a well-made, taut and atmospheric thriller, one which lacks noticeable nuance or innovative style but still manages to grip audiences nonetheless.\n",
            "Actual Sentiment: positive\n",
            "Predicted Sentiment:  Positive\n",
            "x---------------------------------------------------------------------------------------------------x\n",
            "Review:  Dark Angel is a cross between Huxley's Brave New World and Percy's Love in the Ruins--portraying the not too distant future as a disturbing mixture of chaos and order, both in the worst sense of the word. Once one swallows the premise that all modern technology can be brought to a standstill by \"the Pulse,\" it provides an entertaining landscape for exploring the personalities of and relationships between the two primary characters--Max (the Dark Angel/bike messenger) and Logan (the rich rebel). It seems uneven, perhaps a result of a variety of authors, but is held together by the energetic, beautiful, and charming Jessica Alba, who seems both strong and calloused yet vulnerable and sensitive. I think that Fox has done it again.\n",
            "Actual Sentiment: positive\n",
            "Predicted Sentiment:  Positive\n",
            "x---------------------------------------------------------------------------------------------------x\n",
            "Review:  This film IS brilliant...... without a doubt. Watched it a while ago after constant pestering from family members who are right into their sci-fi films (which I am not), and thought it was quite good. But after recently watching a few documentaries on outer-space etc we watched it again... and it IS good.<br /><br />Kevin Spacey is without doubt one of the greatest actors ever and I really like Jeff Bridges (Big Lewbowski, Blown Away, Arlington Road). The film revolves around a patient in a nursing home who claims he is from another planet. Yeah right, you think... but what if his story is so believable that even his psychiatrist begins to wonder if he is telling the truth.<br /><br />That is how the story evolves with Bridges going through all kinds of emotions dealing with Prot (as he is known), his own psychiatric colleagues, his wife and family, his brother-in-law and his cosmologist astronomer work colleagues (who after getting some data from Prot, pretty much admit that he might be telling the truth!) A great film... that get's you wondering.....<br /><br />8/10 Dave\n",
            "Actual Sentiment: positive\n",
            "Predicted Sentiment:  Positive\n",
            "x---------------------------------------------------------------------------------------------------x\n",
            "Review:  This is one of the most guilty pleasure movies ever!<br /><br />I am embarrassed to say that my favorite character is TISH, but still enjoy watching her make her space outfit \"like super cool\" with a \"like totally bitchin\" belt and stick on rhinestones on her face.<br /><br />But anyways, the movie is actually one of the few \"family\" movies that holds your interest. I know that the begining drags, particuarly if you know what is going to happen, but the second half is probably one of the most nerve wracking segments in a family film.<br /><br />I wouldn't stand up in front of millions of people and proclaim to love this movie, in fact renting it is pretty embarrassing itself, but I'll admit it here with the internet to hide behind.<br /><br />\n",
            "Actual Sentiment: positive\n",
            "Predicted Sentiment:  Positive\n",
            "x---------------------------------------------------------------------------------------------------x\n",
            "Review:  Just don't bother. I thought I would see a movie with great supspense and action.<br /><br />But it grows boring and terribly predictable after the interesting start. In the middle of the film you have a little social drama and all tension is lost because it slows down the speed. Towards the end the it gets better but not really great. I think the director took this movie just too serious. In such a kind of a movie even if u don't care about the plot at least you want some nice action. I nearly dozed off in the middle/main part of it. Rating 3/10.<br /><br />derboiler.\n",
            "Actual Sentiment: negative\n",
            "Predicted Sentiment:  Negative\n",
            "x---------------------------------------------------------------------------------------------------x\n",
            "Review:  Chili Palmer is tired of doing movies and know wants to do some success in music. Being half mafioso half expert negotiator, he wants to rise in the music market. However, know everyone is like him and making the good singer Linda Moon to record a hit will be harder as expected. The first part is funny and filled with irony, this one falls into the easy jokes and has many less good moments. Only the two women (Uma and Milian) are decent in their part. Most of the film is done with histrionic character, excessively exaggerated (a little is OK, too much is disgusting) and the only one that one could save is the gay bodyguard, who, at least is coherent, the rest, are too much idiot. The most surprising thing is the fact that the movie is not boring, everything happens so quick and there are so many things happening that you do not have time to get bored, if you want to follow the movie. It may insult your intelligence (a lot!), and the movie is bad(yeah!), but, well, it's not boring.\n",
            "Actual Sentiment: negative\n",
            "Predicted Sentiment:  Negative\n",
            "x---------------------------------------------------------------------------------------------------x\n",
            "Review:  This is the kind of movie that's so extremely bad that you cant stop watching it because you keep telling yourself that 'it cannot continue to be this crappy all the way to the end. It just cant'. You know, 'worse than Jaws 4'-kind of bad.<br /><br />I honestly think I've only seen ONE movie that was worse than this, and then we're talking religious crap about how you'd end up in hell for lying or watching football.<br /><br />Gore? Indeed and lots of it. Well made gore? No way.<br /><br />The acting is beyond bad and all the lines are lousy clichés. Same goes for the storyline which only really consist of sex, blood and violence, like so many other gore movies.<br /><br />If you're hoping for a mix between Ichi the Killer and August Underground keep looking. You wont find it in Live Feed.\n",
            "Actual Sentiment: negative\n",
            "Predicted Sentiment:  Negative\n",
            "x---------------------------------------------------------------------------------------------------x\n",
            "Review:  A charming boy and his mother move to a middle of nowhere town, cats and death soon follow them. That about sums it up.<br /><br />I'll admit that I am a little freaked out by cats after seeing this movie. But in all seriousness in spite of the numerous things that are wrong with this film, and believe me there is plenty of that to go around, it is overall a very enjoyable viewing experience.<br /><br />The characters are more like caricatures here with only their basis instincts to rely on. Fear, greed, pride lust or anger seems to be all that motivate these people. Although it can be argued that that seeming failing, in actuality, serves the telling of the story. The supernatural premise and the fact that it is a Stephen King screenplay(not that I have anything specific against Mr. King) are quite nicely supported by some interesting FX work, makeup and quite suitable music. The absolute gem of this film is without a doubt Alice Krige who plays Mary Brady, the otherworldly mother.<br /><br />King manages to take a simple story of outsider, or people who are a little different(okay - a lot in this case), trying to fit in and twists it into a campy over the top little horror gem that has to be in the collection of any horror fan.\n",
            "Actual Sentiment: negative\n",
            "Predicted Sentiment:  Positive\n",
            "x---------------------------------------------------------------------------------------------------x\n",
            "Review:  I have absolutely no knowledge of author Phillipa Pearce or any of her novels and if TOM`S MIDNIGHT GARDEN is typical of her work I probably would have had little interest in her books as a child . When I was a child I wasn`t really interested in litreture unless it had soldiers fighting monsters complete with a high body count <br /><br />Judging by this film version of TOM`S MIDNIGHT GARDEN I guess Pearce writes for lower middle class kids since much of the story of revolves around protagonist Tom Long moving to a house with no garden then suddenly finding a metaphysical one . Having a garden of your own was no doubt something that working class people didn`t have in the 1950s so I guess there`s some political class ridden subtext there somewhere . There`s also a romance involving a young girl called Hattie but again are cynical kids amoured by love stories ? Perhaps the worst criticism is that very little in the way of excitement or adventure happens within the narrative <br /><br />This is a childrens film that seems dated by its source . It`s inoffensive but I`m surprised by its high rating by the IMDB voters . I wonder how many of them would have given it so many high marks if they were 10 year olds who`d just seen the LORD OF THE RINGS trilogy ?\n",
            "Actual Sentiment: negative\n",
            "Predicted Sentiment:  Negative\n",
            "x---------------------------------------------------------------------------------------------------x\n"
          ]
        }
      ],
      "source": [
        "\n",
        "pos_reviews = list(test_df[\"review\"].loc[test_df[\"sentiment\"] == \"positive\"].iloc[:5])\n",
        "neg_reviews = list(test_df[\"review\"].loc[test_df[\"sentiment\"] == \"negative\"].iloc[:5])\n",
        "\n",
        "for reviewText, actualSentiment in  zip(pos_reviews + neg_reviews, [\"positive\"]*5+[\"negative\"]*5):\n",
        "    sentiment, probability = predictSentiment(reviewText)\n",
        "    \"\"\"\n",
        "    Since, the model always predicts probability of being Negative, we compute (1-probability) as \n",
        "    probability when predicted sentiment is Positive\n",
        "    \"\"\"\n",
        "    if sentiment == \"positive\":\n",
        "        probability = 1 - probability\n",
        "    \n",
        "    probability = np.round(probability, 4)\n",
        "    print(\"Review: \", reviewText)\n",
        "    print(\"Actual Sentiment:\", actualSentiment)\n",
        "    print(\"Predicted Sentiment: \", sentiment)\n",
        "    print(\"x---------------------------------------------------------------------------------------------------x\")"
      ]
    }
  ],
  "metadata": {
    "accelerator": "GPU",
    "colab": {
      "provenance": []
    },
    "gpuClass": "standard",
    "kernelspec": {
      "display_name": "Python 3",
      "name": "python3"
    },
    "language_info": {
      "name": "python"
    }
  },
  "nbformat": 4,
  "nbformat_minor": 0
}